{
 "cells": [
  {
   "attachments": {},
   "cell_type": "markdown",
   "id": "91f12f29",
   "metadata": {},
   "source": [
    "One way to think of your computer's memory is as having several slots in which to store things and each slot has an address."
   ]
  },
  {
   "cell_type": "code",
   "execution_count": 3,
   "id": "16495b49",
   "metadata": {},
   "outputs": [
    {
     "data": {
      "text/plain": [
       "2"
      ]
     },
     "execution_count": 3,
     "metadata": {},
     "output_type": "execute_result"
    }
   ],
   "source": [
    "x = 2\n",
    "x"
   ]
  },
  {
   "attachments": {},
   "cell_type": "markdown",
   "id": "94bb9003",
   "metadata": {},
   "source": [
    "You can check the memory address of an object in Python with the id() function."
   ]
  },
  {
   "cell_type": "code",
   "execution_count": 5,
   "id": "c9df48dc",
   "metadata": {},
   "outputs": [
    {
     "name": "stdout",
     "output_type": "stream",
     "text": [
      "\u001b[1;31mSignature:\u001b[0m \u001b[0mid\u001b[0m\u001b[1;33m(\u001b[0m\u001b[0mobj\u001b[0m\u001b[1;33m,\u001b[0m \u001b[1;33m/\u001b[0m\u001b[1;33m)\u001b[0m\u001b[1;33m\u001b[0m\u001b[1;33m\u001b[0m\u001b[0m\n",
      "\u001b[1;31mDocstring:\u001b[0m\n",
      "Return the identity of an object.\n",
      "\n",
      "This is guaranteed to be unique among simultaneously existing objects.\n",
      "(CPython uses the object's memory address.)\n",
      "\u001b[1;31mType:\u001b[0m      builtin_function_or_method"
     ]
    }
   ],
   "source": [
    "?id"
   ]
  },
  {
   "cell_type": "code",
   "execution_count": 4,
   "id": "6676311f",
   "metadata": {},
   "outputs": [
    {
     "data": {
      "text/plain": [
       "140726716461896"
      ]
     },
     "execution_count": 4,
     "metadata": {},
     "output_type": "execute_result"
    }
   ],
   "source": [
    "id(x)"
   ]
  },
  {
   "attachments": {},
   "cell_type": "markdown",
   "id": "59c26447",
   "metadata": {},
   "source": [
    "### Notes from *grokking algorithms*\n",
    "\n",
    "Every time you store an item in memory, a memory address is associated with it indicating the \"slot\" where that object is stored.\n",
    "\n",
    "The Grokking's algorithm book indicates that there are two main ways to store multiple items - arrays and lists. Which data structure to use depends on the context. It is worth noting that Python has just a single object -- the list [] -- but other programming languages make a distinction between lists and arrays.\n",
    "\n",
    "*Insertion*\n",
    "\n",
    "With arrays, the objects in the container will be stored contiguously in memory. This means that if you have an array of three objects and you'd like to add a fourth but the fourth memory slot is taken up by some other object, your computer will have to shift allocation of memory around. This makes insertion into arrays relatively slow - O(n).\n",
    "\n",
    "With linked lists, the items in your container can be anywhere in memory -- objects do not need to be stored \"next\" to one another. The first slot has data about the object in the list is stored together with the memory address of the next object in the list. Adding an item to the list does not require the computer to move items when you insert new values; you just store the address of the new item with the previous item's data. This makes insertion a new item to the end of the list very fast - O(1).\n",
    "\n",
    "*Reading*\n",
    "\n",
    "Reading a linked list is a different story. You cannot simply read the last element or middle element in the linked list because you don't know their addresses. If you are going to read all of the items in the list, linked lists are fine but arrays allow you to grab items at a particular index.\n",
    "\n",
    "That is, linked lists ONLY allow **sequential access.** Arrays allow for both sequential access and *random access.* With random access, you can easily jump to the 20th element in a list without having to read the first 19. Arrays are much faster at reads.\n",
    "\n",
    "*Deleting*\n",
    "\n",
    "With an array, everything in the container will need to be moved up by one when you delete an object.\n",
    "\n",
    "|               | Reading | Insertion | Deletion |\n",
    "| ------------- | ------- | --------- | -------- |\n",
    "| Arrays        | O(1)    | O(n)      | O(1)     |\n",
    "| Linked Lists  | O(n)    | O(1)      | O(1)     |\n",
    "\n",
    "With linked lists, deletions are only O(1) if you can instantly access the element to be deleted. It is common practice to keep track of the first and last element of the linked list so it only takes O(1) time to delete those but taking into account the aforemention structure, if you want to deleting a middle item in a linked list, you'll need to find the location within the collection before you can delete it."
   ]
  },
  {
   "attachments": {},
   "cell_type": "markdown",
   "id": "16b8440f",
   "metadata": {},
   "source": [
    "## Python's List Implementation\n",
    "\n",
    "Python implements its lists as \"dynamic\" arrays. Dynamic arrays are arrays with automatic resizing so you do not need to specify the number of elements your array will hold ahead of time. Python's list will automatically allocate additional memory slots for your list following the growth pattern: 0, 4, 8, 16, 25, 35, 46, 58, 72, 88, ...\n",
    "\n",
    "http://www.laurentluce.com/posts/python-list-implementation/ - An excellent article here on how Python lists are implemented. Note that it was written **twelve years ago!** so, I am not sure how accurate is for the current version of Python. Still, it offered some really useful intuition for me so I am keeping the notes I took while reading it here. If someone else is reading this for some reason though, the blog article is going to be much better than my summary.\n",
    "\n",
    "Anywho, sandard Python is CPython and written in C.\n",
    "\n",
    "When you initialize an empty list in Python, C returns a list object to you. There is nothing in the list so no memory is allocated for the list's *contents*.\n"
   ]
  },
  {
   "cell_type": "code",
   "execution_count": 67,
   "id": "9f0eaef1",
   "metadata": {},
   "outputs": [
    {
     "data": {
      "text/plain": [
       "[]"
      ]
     },
     "execution_count": 67,
     "metadata": {},
     "output_type": "execute_result"
    }
   ],
   "source": [
    "my_list = []\n",
    "my_list"
   ]
  },
  {
   "cell_type": "code",
   "execution_count": 68,
   "id": "77a9bc2a",
   "metadata": {},
   "outputs": [
    {
     "data": {
      "text/plain": [
       "[1, 2, 3, 4]"
      ]
     },
     "execution_count": 68,
     "metadata": {},
     "output_type": "execute_result"
    }
   ],
   "source": [
    "my_list.append(1)\n",
    "my_list.append(2)\n",
    "my_list.append(3)\n",
    "my_list.append(4)\n",
    "my_list"
   ]
  },
  {
   "attachments": {},
   "cell_type": "markdown",
   "id": "4fed3583",
   "metadata": {},
   "source": [
    "When you append an integer to the list, an internal C function called app1() is called. It resizes the list from zero to four -- putting aside four slots in memory for your list objects though you've only appended one. It does this to avoid having to resize the list every time you append an item.\n",
    "\n",
    "When you append three more items (index 1, 2, 3), there is no need to allocate more memory. That memory has already been allocated.\n",
    "\n",
    "It isn't until you hit the 5th item (index 4), that more memory will need to allocated - four more slots are allocated for a total of eight memory slots. (Again, growth pattern is 0, 4, 8, 16, 25, 35, 46, 58, 72, 88, ...)"
   ]
  },
  {
   "cell_type": "code",
   "execution_count": 69,
   "id": "9e6635a2",
   "metadata": {},
   "outputs": [
    {
     "data": {
      "text/plain": [
       "[1, 5, 2, 3, 4]"
      ]
     },
     "execution_count": 69,
     "metadata": {},
     "output_type": "execute_result"
    }
   ],
   "source": [
    "my_list.insert(1, 5)\n",
    "my_list"
   ]
  },
  {
   "attachments": {},
   "cell_type": "markdown",
   "id": "6b0da3aa",
   "metadata": {},
   "source": [
    "**Insertions**\n",
    "\n",
    "If you want to inset an integer (5) in the middle of the list at position 1, four more slots of memory will be allocated/the list will be resized. For our list of size 5, there will be 8 memory slots allocated.\n",
    "\n",
    "Additionally, the elements at index 1, 2 and 3 will be shifted to indices 2, 3 and 4. This explains why insertion is O(n)"
   ]
  },
  {
   "attachments": {},
   "cell_type": "markdown",
   "id": "d3ce8f07",
   "metadata": {},
   "source": [
    "**Pop**"
   ]
  },
  {
   "cell_type": "code",
   "execution_count": 70,
   "id": "bc43a518",
   "metadata": {},
   "outputs": [
    {
     "data": {
      "text/plain": [
       "4"
      ]
     },
     "execution_count": 70,
     "metadata": {},
     "output_type": "execute_result"
    }
   ],
   "source": [
    "my_list.pop()"
   ]
  },
  {
   "cell_type": "code",
   "execution_count": 71,
   "id": "1d51ef7b",
   "metadata": {},
   "outputs": [
    {
     "data": {
      "text/plain": [
       "[1, 5, 2, 3]"
      ]
     },
     "execution_count": 71,
     "metadata": {},
     "output_type": "execute_result"
    }
   ],
   "source": [
    "my_list"
   ]
  },
  {
   "attachments": {},
   "cell_type": "markdown",
   "id": "982a95fd",
   "metadata": {},
   "source": [
    "When you pop the last element, C's listpop() function is called.\n",
    "\n",
    "The size of the list changes to 4. The 4th slot in memory still points to the integer 4 but it is returned as the return element for the pop function.\n",
    "\n",
    "If the list is empty, null is returned.\n",
    "\n",
    "The list is resized IF the new size is strictly less than half the allocated size. So, above, our allocated size is 8 memory slots. We we have popped the fifth element so my_list's \"new size\" is 4. This is not **less than** half the allocated memory so no change is made.\n",
    "\n",
    "If we pop again:\n",
    "\n"
   ]
  },
  {
   "cell_type": "code",
   "execution_count": 72,
   "id": "4ec64d7b",
   "metadata": {},
   "outputs": [
    {
     "data": {
      "text/plain": [
       "3"
      ]
     },
     "execution_count": 72,
     "metadata": {},
     "output_type": "execute_result"
    }
   ],
   "source": [
    "my_list.pop()"
   ]
  },
  {
   "cell_type": "code",
   "execution_count": 73,
   "id": "128348a2",
   "metadata": {},
   "outputs": [
    {
     "data": {
      "text/plain": [
       "[1, 5, 2]"
      ]
     },
     "execution_count": 73,
     "metadata": {},
     "output_type": "execute_result"
    }
   ],
   "source": [
    "my_list"
   ]
  },
  {
   "attachments": {},
   "cell_type": "markdown",
   "id": "af07ed5e",
   "metadata": {},
   "source": [
    "Our size is 3, less than half the allocated memory slots so my_list will be resized. \n",
    "\n",
    "Slots 3 and 4 will still point to some integers with slot 3's value being returned as our element to pop but the new size of the list is now 3.\n",
    "\n",
    "There are 6 memory slots allocated.*\n",
    "\n",
    "Our list of size 3 is associated with four memory slots and there are two additional memory slots associated with the popped values."
   ]
  },
  {
   "attachments": {},
   "cell_type": "markdown",
   "id": "e3d89910",
   "metadata": {},
   "source": [
    "**Remove**"
   ]
  },
  {
   "cell_type": "code",
   "execution_count": 74,
   "id": "b98d49ea",
   "metadata": {},
   "outputs": [
    {
     "data": {
      "text/plain": [
       "[1, 5, 2]"
      ]
     },
     "execution_count": 74,
     "metadata": {},
     "output_type": "execute_result"
    }
   ],
   "source": [
    "my_list"
   ]
  },
  {
   "cell_type": "code",
   "execution_count": 75,
   "id": "e6a97f46",
   "metadata": {},
   "outputs": [],
   "source": [
    "my_list.remove(5)"
   ]
  },
  {
   "cell_type": "code",
   "execution_count": 76,
   "id": "fdb5a932",
   "metadata": {},
   "outputs": [
    {
     "data": {
      "text/plain": [
       "[1, 2]"
      ]
     },
     "execution_count": 76,
     "metadata": {},
     "output_type": "execute_result"
    }
   ],
   "source": [
    "my_list"
   ]
  },
  {
   "attachments": {},
   "cell_type": "markdown",
   "id": "f4f71b33",
   "metadata": {},
   "source": [
    "When we call the remove method on a list object, C's listremove() is called.\n",
    "\n",
    "listremove loops through each list element (O(n)) and, when it hits the correct element, it will use a function called list_ass_slice() to remove the element. (hehe, ass slice.)\n",
    "\n",
    "Prior to removal, we can find 5 at index 1 so the \"low offset\" for list_ass_slice is index 1. The high offset is 2 (low offset + 1).\n",
    "\n",
    "The integer 5 is \"recycled to dereference it.\"\n",
    "Elements are shifted from slot 2 (high offset) to slot 1 (low offset).\n",
    "\n",
    "The list's size is 2 and there are 5 memory slots allocated.\n",
    "\n",
    "The memory slot at 0 still points to the integer 1.\n",
    "The memory slot at 1 *was* pointing to the integer 5 but now points to the integer 2 (shifted).\n",
    "The memory slot at 2 is STILL pointing to the integer 2 but the SIZE of the list is only two now (0 and 1 are the only ones \"really\" allocated\".)\n",
    "The memory slot at 3 and 4 point to the popped integers from before.\n",
    "\n",
    "The integer objects that are \"dangling\" (is that the right word to use?) will be cleaned up by the garbage collector when it sees there are no more references to these objects.\n"
   ]
  },
  {
   "attachments": {},
   "cell_type": "markdown",
   "id": "bb24f88a",
   "metadata": {},
   "source": [
    "**Python List Operations - Time Complexity**\n",
    "\n",
    "https://wiki.python.org/moin/TimeComplexity\n",
    "\n",
    "| Operation    | Average Case | Amortized Worst Case |\n",
    "| ------------ | ------------ | -------------------- |\n",
    "| append[1]    | O(1)         | O(1)                 |\n",
    "| pop (last)   | O(1)         | O(1)                 |\n",
    "| pop (interm) | O(n)         | O(n)                 |\n",
    "| insert       | O(n)         | O(n)                 |\n",
    "| delete       | O(n)         | O(n)                 |"
   ]
  },
  {
   "attachments": {},
   "cell_type": "markdown",
   "id": "adf7efe5",
   "metadata": {},
   "source": [
    "### Notes from Real Python + Minor Embellishments\n",
    "\n",
    "https://realpython.com/linked-lists-python/\n",
    "\n",
    "Linked lists are ordered collections.\n",
    "\n",
    "This article goes onto further formalize each element of a linked list as being a \"node\" with each node containing 1) data and 2) \"next\" - a reference to the next node on the list.\n",
    "\n",
    "The first node is called the \"head\" of the linked list. It is used as the starting point for any iteration.\n",
    "\n",
    "Linked lists are used to implement queues, stacks and graphs.\n",
    "\n",
    "**Queues and Stacks**\n",
    "\n",
    "Queues and stacks differ in the way elements are retrieved.\n",
    "\n",
    "For a queue, you use a first-in/first-out approach. That is, the first element inserted in the list is the first one to be retrieved. With a queue data structure, elements will be continuously inserted and removed at the beginning of the list.\n",
    "\n",
    "When you append new elements to the queue (or new people stand in line), they go the end of the line.\n",
    "\n",
    "Stacks are Last-In/First-Out. The last element inserted in the list is the first to be retrieved. You're making a stack of pancakes and you place it on the table. The last pancake made is the \"top\" pancake and it is eaten before the other pancakes.\n",
    "\n",
    "**Graphs**\n",
    "\n",
    "Linked lists can also be used to represent graphs (think network analysis) using an adjacency list (which is a list of linked lists). But, graphs are not really a focus of this particular article so I won't elaborate on that just yet.\n",
    "\n"
   ]
  },
  {
   "attachments": {},
   "cell_type": "markdown",
   "id": "5bea6c8b",
   "metadata": {},
   "source": [
    "**Performance Comparison: Lists vs Linked Lists**\n",
    "\n",
    "In other languages, linked lists and arrays are stored in memory very differently but, as indicated above, Python programmers mainly use lists which are dynamic arrays. The main focus with Python when it comes to performance differences between lists and linked lists is *time complexity.*\n",
    "\n",
    "As we saw, when you insert or remove and element **anywhere other than the end** of a classic Python list, there is some shifting that has to occur in the background -- resulting in O(n) time complexity. When you insert at the beginning of the Python list, all of the elements in the list have to be shifted in memory O(n).\n",
    "\n",
    "Recall that linked lists keep track of the head node and the end node so insertion and deletion at the beginning of the list and the end of the list will **both** be O(1) - constant time complexity.\n",
    "\n",
    "*Implication for queue: Use a linked list*\n",
    "\n",
    "The implication of this is that linked lists have a performance advantage when you are implementing a queue -- elements are continuously inserted and removed at the beginning of the list. \n",
    "\n",
    "*Implication for stack: Use either a linked list or a list*\n",
    "\n",
    "Linked lists will perform similarly to the dynamic array/Python's list structure when implementing a stack data structure where elements are being inserted/removed at the end of the list.\n",
    "\n",
    "However, recall that arrays allow **random access** and the linked list will only allow you to perform sequential access. If you know what element you want to access, you can get the element you want in O(1) time from an array because there is no need to traverse the entire list potentially looking for it."
   ]
  },
  {
   "attachments": {},
   "cell_type": "markdown",
   "id": "f1cea4b1",
   "metadata": {},
   "source": [
    "**collections.deque**\n",
    "\n",
    "https://docs.python.org/3.7/library/collections.html#collections.deque\n",
    "\n",
    "Python's collections module contains a function called deque (\"deck\") that returns a \"deck\" object. It is a generalization of stacks and queues and will append and pop from the end of the beginning with approximately O(1) performance. They do not incur the O(n) memory movement costs pop(0) and insert(0, v) do."
   ]
  },
  {
   "cell_type": "code",
   "execution_count": 78,
   "id": "7cb29af5",
   "metadata": {},
   "outputs": [
    {
     "data": {
      "text/plain": [
       "deque([])"
      ]
     },
     "execution_count": 78,
     "metadata": {},
     "output_type": "execute_result"
    }
   ],
   "source": [
    "from collections import deque\n",
    "d = deque()\n",
    "d"
   ]
  },
  {
   "cell_type": "code",
   "execution_count": 79,
   "id": "fabab4d5",
   "metadata": {},
   "outputs": [
    {
     "data": {
      "text/plain": [
       "collections.deque"
      ]
     },
     "execution_count": 79,
     "metadata": {},
     "output_type": "execute_result"
    }
   ],
   "source": [
    "type(d)"
   ]
  },
  {
   "cell_type": "code",
   "execution_count": 80,
   "id": "6f27e9a7",
   "metadata": {},
   "outputs": [
    {
     "name": "stdout",
     "output_type": "stream",
     "text": [
      "\u001b[1;31mInit signature:\u001b[0m \u001b[0mdeque\u001b[0m\u001b[1;33m(\u001b[0m\u001b[0mself\u001b[0m\u001b[1;33m,\u001b[0m \u001b[1;33m/\u001b[0m\u001b[1;33m,\u001b[0m \u001b[1;33m*\u001b[0m\u001b[0margs\u001b[0m\u001b[1;33m,\u001b[0m \u001b[1;33m**\u001b[0m\u001b[0mkwargs\u001b[0m\u001b[1;33m)\u001b[0m\u001b[1;33m\u001b[0m\u001b[1;33m\u001b[0m\u001b[0m\n",
      "\u001b[1;31mDocstring:\u001b[0m     \n",
      "deque([iterable[, maxlen]]) --> deque object\n",
      "\n",
      "A list-like sequence optimized for data accesses near its endpoints.\n",
      "\u001b[1;31mFile:\u001b[0m           c:\\users\\shea\\appdata\\local\\programs\\python\\python311\\lib\\collections\\__init__.py\n",
      "\u001b[1;31mType:\u001b[0m           type\n",
      "\u001b[1;31mSubclasses:\u001b[0m     "
     ]
    }
   ],
   "source": [
    "?deque"
   ]
  },
  {
   "cell_type": "code",
   "execution_count": 83,
   "id": "d317b631",
   "metadata": {},
   "outputs": [
    {
     "data": {
      "text/plain": [
       "deque(['a', 'b', 'c'])"
      ]
     },
     "execution_count": 83,
     "metadata": {},
     "output_type": "execute_result"
    }
   ],
   "source": [
    "# An empty deque object is created if no argument is passed\n",
    "# deque() can also take an iterable (lists, tuples, dicts, strings)\n",
    "\n",
    "deque('abc')"
   ]
  },
  {
   "cell_type": "code",
   "execution_count": 87,
   "id": "722195b7",
   "metadata": {},
   "outputs": [
    {
     "data": {
      "text/plain": [
       "deque(['a', 'b', 'c', 'd', 'e'])"
      ]
     },
     "execution_count": 87,
     "metadata": {},
     "output_type": "execute_result"
    }
   ],
   "source": [
    "linked_list = deque(\"abcde\")\n",
    "linked_list"
   ]
  },
  {
   "cell_type": "code",
   "execution_count": 88,
   "id": "df76f65d",
   "metadata": {},
   "outputs": [
    {
     "data": {
      "text/plain": [
       "deque(['a', 'b', 'c', 'd', 'e', 'f'])"
      ]
     },
     "execution_count": 88,
     "metadata": {},
     "output_type": "execute_result"
    }
   ],
   "source": [
    "# append to end\n",
    "linked_list.append(\"f\")\n",
    "linked_list"
   ]
  },
  {
   "cell_type": "code",
   "execution_count": 89,
   "id": "e1cffe73",
   "metadata": {},
   "outputs": [
    {
     "data": {
      "text/plain": [
       "'f'"
      ]
     },
     "execution_count": 89,
     "metadata": {},
     "output_type": "execute_result"
    }
   ],
   "source": [
    "# pop from end\n",
    "linked_list.pop()"
   ]
  },
  {
   "cell_type": "code",
   "execution_count": 90,
   "id": "0cbd20fe",
   "metadata": {},
   "outputs": [
    {
     "data": {
      "text/plain": [
       "deque(['a', 'b', 'c', 'd', 'e'])"
      ]
     },
     "execution_count": 90,
     "metadata": {},
     "output_type": "execute_result"
    }
   ],
   "source": [
    "linked_list"
   ]
  },
  {
   "cell_type": "code",
   "execution_count": 91,
   "id": "0a0700cd",
   "metadata": {},
   "outputs": [],
   "source": [
    "# append to beginning!\n",
    "linked_list.appendleft(\"z\")"
   ]
  },
  {
   "cell_type": "code",
   "execution_count": 92,
   "id": "c754667f",
   "metadata": {},
   "outputs": [
    {
     "data": {
      "text/plain": [
       "deque(['z', 'a', 'b', 'c', 'd', 'e'])"
      ]
     },
     "execution_count": 92,
     "metadata": {},
     "output_type": "execute_result"
    }
   ],
   "source": [
    "linked_list"
   ]
  },
  {
   "cell_type": "code",
   "execution_count": 93,
   "id": "6fa4ca70",
   "metadata": {},
   "outputs": [
    {
     "data": {
      "text/plain": [
       "'z'"
      ]
     },
     "execution_count": 93,
     "metadata": {},
     "output_type": "execute_result"
    }
   ],
   "source": [
    "#remove from beginning\n",
    "linked_list.popleft()"
   ]
  },
  {
   "cell_type": "code",
   "execution_count": 94,
   "id": "fda8175d",
   "metadata": {},
   "outputs": [
    {
     "data": {
      "text/plain": [
       "deque(['a', 'b', 'c', 'd', 'e'])"
      ]
     },
     "execution_count": 94,
     "metadata": {},
     "output_type": "execute_result"
    }
   ],
   "source": [
    "linked_list"
   ]
  },
  {
   "attachments": {},
   "cell_type": "markdown",
   "id": "9c2da14e",
   "metadata": {},
   "source": [
    "**TODO, next up: work through \"How to Implement Queues and Stacks\"**\n",
    "\n",
    "https://realpython.com/linked-lists-python/#how-to-implement-queues-and-stacks"
   ]
  },
  {
   "attachments": {},
   "cell_type": "markdown",
   "id": "adb784e8",
   "metadata": {},
   "source": [
    "## Main Points:\n",
    "\n",
    "* Use a linked list when you need to implement a queue/you have elements being inserted/removed at the beginning of the list. The intuition is that the linked list keeps track of the head node as well as the end node, making insertion and deletion at the beginning of the list O(1) instead of O(n) as it is with an array.\n",
    "\n",
    "* Python lists are implemented as dynamic arrays. Classic arrays often require you to determine ahead of time how much space you will need for an array ahead of time because the objects in the array are stored contiguously; adding additional data to a classic array means finding space in memory where the objects can be stored \"next\" to each other. Dynamic arrays, like Python lists, are implemented in such a way that the memory allocated is increased/decreased for you as you interact with it. Laurent Luce's blog post in Resources explains well what is happening behind the scenes in C.\n",
    "\n",
    "* Python offers the \"deque\" object, returned from the deque() function within the standard library's \"collection\" module. The deque() function takes an iterable and returns a collection much like a linked list. (I'm not sure exactly how it is implemented.) It has ~O(1) time for insertion and removal from the beginning and end of the collection like a linked list though. Methods: append(\"a\"), pop() for insertion and removal at end of the collection, appendleft(\"a\"), popleft() for insertion and removal at the head/beginning of the collection."
   ]
  },
  {
   "attachments": {},
   "cell_type": "markdown",
   "id": "9f206889",
   "metadata": {},
   "source": [
    "### Questions So Far:\n",
    "\n",
    "1. If Python lists are actually arrays, why is it that these memory addresses are not exactly sequential?"
   ]
  },
  {
   "cell_type": "code",
   "execution_count": 95,
   "id": "236bbd87",
   "metadata": {},
   "outputs": [
    {
     "data": {
      "text/plain": [
       "(140726716461864, 140726716461896, 140726716461928, 140726716461960)"
      ]
     },
     "execution_count": 95,
     "metadata": {},
     "output_type": "execute_result"
    }
   ],
   "source": [
    "x = [1, 2, 3, 4]\n",
    "\n",
    "id(x[0]), id(x[1]), id(x[2]), id(x[3])"
   ]
  },
  {
   "cell_type": "code",
   "execution_count": 97,
   "id": "b45b3109",
   "metadata": {},
   "outputs": [
    {
     "data": {
      "text/plain": [
       "(1941205522032, 1941208495408, 1941233512240)"
      ]
     },
     "execution_count": 97,
     "metadata": {},
     "output_type": "execute_result"
    }
   ],
   "source": [
    "y = [12_341, \"kfjdksdjf\", \"kittens\"]\n",
    "\n",
    "id(y[0]), id(y[1]), id(y[2])"
   ]
  },
  {
   "attachments": {},
   "cell_type": "markdown",
   "id": "90e3bd08",
   "metadata": {},
   "source": [
    "### Resources:\n",
    "* [grokking algorithms](https://bookshop.org/p/books/grokking-algorithms-an-illustrated-guide-for-programmers-and-other-curious-people-aditya-bhargava/10667477)\n",
    "* [Linked Lists in Python](https://realpython.com/linked-lists-python/)\n",
    "* [Python Docs: Time Complexity](https://wiki.python.org/moin/TimeComplexity)\n",
    "* [Laurent Luce's Blog, Python List Implementation](http://www.laurentluce.com/posts/python-list-implementation/)"
   ]
  },
  {
   "cell_type": "markdown",
   "id": "7929bcf1",
   "metadata": {},
   "source": []
  }
 ],
 "metadata": {
  "kernelspec": {
   "display_name": "Python 3 (ipykernel)",
   "language": "python",
   "name": "python3"
  },
  "language_info": {
   "codemirror_mode": {
    "name": "ipython",
    "version": 3
   },
   "file_extension": ".py",
   "mimetype": "text/x-python",
   "name": "python",
   "nbconvert_exporter": "python",
   "pygments_lexer": "ipython3",
   "version": "3.11.2"
  }
 },
 "nbformat": 4,
 "nbformat_minor": 5
}
